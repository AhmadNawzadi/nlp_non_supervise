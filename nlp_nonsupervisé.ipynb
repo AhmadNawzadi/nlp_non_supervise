{
 "cells": [
  {
   "cell_type": "code",
   "execution_count": 1,
   "id": "2eca34dd",
   "metadata": {},
   "outputs": [],
   "source": [
    "import pandas as pd"
   ]
  },
  {
   "cell_type": "code",
   "execution_count": 2,
   "id": "9aca6a29",
   "metadata": {},
   "outputs": [],
   "source": [
    "df = pd.read_csv('tweet.csv', usecols=['tweet_id','body'],nrows=500)"
   ]
  },
  {
   "cell_type": "code",
   "execution_count": 3,
   "id": "4f7183e9",
   "metadata": {},
   "outputs": [
    {
     "data": {
      "text/html": [
       "<div>\n",
       "<style scoped>\n",
       "    .dataframe tbody tr th:only-of-type {\n",
       "        vertical-align: middle;\n",
       "    }\n",
       "\n",
       "    .dataframe tbody tr th {\n",
       "        vertical-align: top;\n",
       "    }\n",
       "\n",
       "    .dataframe thead th {\n",
       "        text-align: right;\n",
       "    }\n",
       "</style>\n",
       "<table border=\"1\" class=\"dataframe\">\n",
       "  <thead>\n",
       "    <tr style=\"text-align: right;\">\n",
       "      <th></th>\n",
       "      <th>tweet_id</th>\n",
       "      <th>body</th>\n",
       "    </tr>\n",
       "  </thead>\n",
       "  <tbody>\n",
       "    <tr>\n",
       "      <th>0</th>\n",
       "      <td>550441509175443456</td>\n",
       "      <td>lx21 made $10,008  on $AAPL -Check it out! htt...</td>\n",
       "    </tr>\n",
       "    <tr>\n",
       "      <th>1</th>\n",
       "      <td>550441672312512512</td>\n",
       "      <td>Insanity of today weirdo massive selling. $aap...</td>\n",
       "    </tr>\n",
       "    <tr>\n",
       "      <th>2</th>\n",
       "      <td>550441732014223360</td>\n",
       "      <td>S&amp;P100 #Stocks Performance $HD $LOW $SBUX $TGT...</td>\n",
       "    </tr>\n",
       "    <tr>\n",
       "      <th>3</th>\n",
       "      <td>550442977802207232</td>\n",
       "      <td>$GM $TSLA: Volkswagen Pushes 2014 Record Recal...</td>\n",
       "    </tr>\n",
       "    <tr>\n",
       "      <th>4</th>\n",
       "      <td>550443807834402816</td>\n",
       "      <td>Swing Trading: Up To 8.91% Return In 14 Days h...</td>\n",
       "    </tr>\n",
       "    <tr>\n",
       "      <th>...</th>\n",
       "      <td>...</td>\n",
       "      <td>...</td>\n",
       "    </tr>\n",
       "    <tr>\n",
       "      <th>495</th>\n",
       "      <td>550758844922486784</td>\n",
       "      <td>$aapl could be a problem sitting on support th...</td>\n",
       "    </tr>\n",
       "    <tr>\n",
       "      <th>496</th>\n",
       "      <td>550758908076101632</td>\n",
       "      <td>$TSLA Tesla Motors Inc (TSLA) May Up Its Marke...</td>\n",
       "    </tr>\n",
       "    <tr>\n",
       "      <th>497</th>\n",
       "      <td>550759053451071490</td>\n",
       "      <td>@TMFJMo if $ were no object?  $BRK-AReal money...</td>\n",
       "    </tr>\n",
       "    <tr>\n",
       "      <th>498</th>\n",
       "      <td>550759232455585792</td>\n",
       "      <td>@downsidecapital $FB can't afford it, so $GOOG...</td>\n",
       "    </tr>\n",
       "    <tr>\n",
       "      <th>499</th>\n",
       "      <td>550759365826068481</td>\n",
       "      <td>Top 7 Options trading mistakes http://bit.ly/e...</td>\n",
       "    </tr>\n",
       "  </tbody>\n",
       "</table>\n",
       "<p>500 rows × 2 columns</p>\n",
       "</div>"
      ],
      "text/plain": [
       "               tweet_id                                               body\n",
       "0    550441509175443456  lx21 made $10,008  on $AAPL -Check it out! htt...\n",
       "1    550441672312512512  Insanity of today weirdo massive selling. $aap...\n",
       "2    550441732014223360  S&P100 #Stocks Performance $HD $LOW $SBUX $TGT...\n",
       "3    550442977802207232  $GM $TSLA: Volkswagen Pushes 2014 Record Recal...\n",
       "4    550443807834402816  Swing Trading: Up To 8.91% Return In 14 Days h...\n",
       "..                  ...                                                ...\n",
       "495  550758844922486784  $aapl could be a problem sitting on support th...\n",
       "496  550758908076101632  $TSLA Tesla Motors Inc (TSLA) May Up Its Marke...\n",
       "497  550759053451071490  @TMFJMo if $ were no object?  $BRK-AReal money...\n",
       "498  550759232455585792  @downsidecapital $FB can't afford it, so $GOOG...\n",
       "499  550759365826068481  Top 7 Options trading mistakes http://bit.ly/e...\n",
       "\n",
       "[500 rows x 2 columns]"
      ]
     },
     "execution_count": 3,
     "metadata": {},
     "output_type": "execute_result"
    }
   ],
   "source": [
    "df"
   ]
  },
  {
   "cell_type": "code",
   "execution_count": 4,
   "id": "1f0109b5",
   "metadata": {},
   "outputs": [],
   "source": [
    "title = df['body']"
   ]
  },
  {
   "cell_type": "code",
   "execution_count": 5,
   "id": "ec9bdf84",
   "metadata": {},
   "outputs": [],
   "source": [
    "import spacy "
   ]
  },
  {
   "cell_type": "code",
   "execution_count": 6,
   "id": "b7684fc6",
   "metadata": {},
   "outputs": [],
   "source": [
    "nlp = spacy.load(\"en_core_web_sm\")"
   ]
  },
  {
   "cell_type": "markdown",
   "id": "e79d9b48",
   "metadata": {},
   "source": [
    "### TOKENIZATION"
   ]
  },
  {
   "cell_type": "code",
   "execution_count": 7,
   "id": "192a14d8",
   "metadata": {},
   "outputs": [],
   "source": [
    "doc = nlp(\"google isn't looking at buying U.K. startup for $1 billion\")"
   ]
  },
  {
   "cell_type": "code",
   "execution_count": 8,
   "id": "ec8eae6a",
   "metadata": {},
   "outputs": [
    {
     "name": "stdout",
     "output_type": "stream",
     "text": [
      "google\n",
      "is\n",
      "n't\n",
      "looking\n",
      "at\n",
      "buying\n",
      "U.K.\n",
      "startup\n",
      "for\n",
      "$\n",
      "1\n",
      "billion\n"
     ]
    }
   ],
   "source": [
    "for token in doc:\n",
    "    print(token)"
   ]
  },
  {
   "cell_type": "code",
   "execution_count": 9,
   "id": "aa01fa0c",
   "metadata": {},
   "outputs": [
    {
     "name": "stdout",
     "output_type": "stream",
     "text": [
      "google google\n",
      "is be\n",
      "n't n't\n",
      "looking look\n",
      "at at\n",
      "buying buy\n",
      "U.K. U.K.\n",
      "startup startup\n",
      "for for\n",
      "$ $\n",
      "1 1\n",
      "billion billion\n"
     ]
    }
   ],
   "source": [
    "# Lemmatization \n",
    "\n",
    "for token in doc:\n",
    "    print(token.text, token.lemma_)"
   ]
  },
  {
   "cell_type": "code",
   "execution_count": 10,
   "id": "1b5cb9d4",
   "metadata": {},
   "outputs": [
    {
     "name": "stdout",
     "output_type": "stream",
     "text": [
      "google          google          PROPN\n",
      "is              be              AUX\n",
      "n't             n't             PART\n",
      "looking         look            VERB\n",
      "at              at              ADP\n",
      "buying          buy             VERB\n",
      "U.K.            U.K.            PROPN\n",
      "startup         startup         NOUN\n",
      "for             for             ADP\n",
      "$               $               SYM\n",
      "1               1               NUM\n",
      "billion         billion         NUM\n"
     ]
    }
   ],
   "source": [
    "#### part of Speech \n",
    "\n",
    "for token in doc:\n",
    "    print(f\"{token.text:{15}} {token.lemma_:{15}} {token.pos_}\")"
   ]
  },
  {
   "cell_type": "markdown",
   "id": "6344f52d",
   "metadata": {},
   "source": [
    "# Latent Dirichlet Allocation (LDA)\n",
    "#LDA est un moyen d'identifier plusieurs sujets dans chaque document d'un corpus et de recevoir une proportion de l'alignement d'un document sur un sujet spécifique.\n",
    "\n",
    "#LDA est un modèle de sujet qui génère des sujets en fonction de la fréquence des mots à partir d'un ensemble de documents"
   ]
  },
  {
   "cell_type": "code",
   "execution_count": 11,
   "id": "34f99845",
   "metadata": {},
   "outputs": [],
   "source": [
    "import nltk\n",
    "from nltk.corpus import stopwords"
   ]
  },
  {
   "cell_type": "code",
   "execution_count": 12,
   "id": "185c2fde",
   "metadata": {},
   "outputs": [
    {
     "name": "stderr",
     "output_type": "stream",
     "text": [
      "[nltk_data] Downloading package stopwords to\n",
      "[nltk_data]     /Users/ahmadnawzadi/nltk_data...\n",
      "[nltk_data]   Package stopwords is already up-to-date!\n"
     ]
    },
    {
     "data": {
      "text/plain": [
       "True"
      ]
     },
     "execution_count": 12,
     "metadata": {},
     "output_type": "execute_result"
    }
   ],
   "source": [
    "nltk.download('stopwords')"
   ]
  },
  {
   "cell_type": "code",
   "execution_count": 13,
   "id": "fef346f3",
   "metadata": {},
   "outputs": [
    {
     "name": "stdout",
     "output_type": "stream",
     "text": [
      "['i', 'me', 'my', 'myself', 'we', 'our', 'ours', 'ourselves', 'you', \"you're\", \"you've\", \"you'll\", \"you'd\", 'your', 'yours', 'yourself', 'yourselves', 'he', 'him', 'his', 'himself', 'she', \"she's\", 'her', 'hers', 'herself', 'it', \"it's\", 'its', 'itself', 'they', 'them', 'their', 'theirs', 'themselves', 'what', 'which', 'who', 'whom', 'this', 'that', \"that'll\", 'these', 'those', 'am', 'is', 'are', 'was', 'were', 'be', 'been', 'being', 'have', 'has', 'had', 'having', 'do', 'does', 'did', 'doing', 'a', 'an', 'the', 'and', 'but', 'if', 'or', 'because', 'as', 'until', 'while', 'of', 'at', 'by', 'for', 'with', 'about', 'against', 'between', 'into', 'through', 'during', 'before', 'after', 'above', 'below', 'to', 'from', 'up', 'down', 'in', 'out', 'on', 'off', 'over', 'under', 'again', 'further', 'then', 'once', 'here', 'there', 'when', 'where', 'why', 'how', 'all', 'any', 'both', 'each', 'few', 'more', 'most', 'other', 'some', 'such', 'no', 'nor', 'not', 'only', 'own', 'same', 'so', 'than', 'too', 'very', 's', 't', 'can', 'will', 'just', 'don', \"don't\", 'should', \"should've\", 'now', 'd', 'll', 'm', 'o', 're', 've', 'y', 'ain', 'aren', \"aren't\", 'couldn', \"couldn't\", 'didn', \"didn't\", 'doesn', \"doesn't\", 'hadn', \"hadn't\", 'hasn', \"hasn't\", 'haven', \"haven't\", 'isn', \"isn't\", 'ma', 'mightn', \"mightn't\", 'mustn', \"mustn't\", 'needn', \"needn't\", 'shan', \"shan't\", 'shouldn', \"shouldn't\", 'wasn', \"wasn't\", 'weren', \"weren't\", 'won', \"won't\", 'wouldn', \"wouldn't\"]\n"
     ]
    }
   ],
   "source": [
    "stopwords = stopwords.words(\"english\")\n",
    "print(stopwords)"
   ]
  },
  {
   "cell_type": "code",
   "execution_count": 14,
   "id": "316e3c43",
   "metadata": {},
   "outputs": [],
   "source": [
    "import gensim \n",
    "#gensim is un NLP library and it comes with the word2vec class"
   ]
  },
  {
   "cell_type": "code",
   "execution_count": 15,
   "id": "8b2b6fcc",
   "metadata": {},
   "outputs": [],
   "source": [
    "from gensim.parsing.preprocessing import remove_stopwords\n",
    "new = []\n",
    "text = \"Nick likes to play football, however he is not too fond of tennis.\"\n",
    "for tweet in title:   \n",
    "    remove = remove_stopwords(tweet)\n",
    "    new.append(remove)"
   ]
  },
  {
   "cell_type": "code",
   "execution_count": 16,
   "id": "ddb919d4",
   "metadata": {},
   "outputs": [
    {
     "data": {
      "text/plain": [
       "0      [lx, made, on, aapl, check, it, out, http, pro...\n",
       "1      [insanity, of, today, weirdo, massive, selling...\n",
       "2      [stocks, performance, hd, low, sbux, tgt, dvn,...\n",
       "3      [gm, tsla, volkswagen, pushes, record, recall,...\n",
       "4      [swing, trading, up, to, return, in, days, htt...\n",
       "                             ...                        \n",
       "495    [aapl, could, be, problem, sitting, on, suppor...\n",
       "496    [tsla, tesla, motors, inc, tsla, may, up, its,...\n",
       "497    [tmfjmo, if, were, no, object, brk, areal, mon...\n",
       "498    [downsidecapital, fb, can, afford, it, so, goo...\n",
       "499    [top, options, trading, mistakes, http, bit, l...\n",
       "Name: body, Length: 500, dtype: object"
      ]
     },
     "execution_count": 16,
     "metadata": {},
     "output_type": "execute_result"
    }
   ],
   "source": [
    "# Preprocessing \n",
    "\n",
    "review_text = title.apply(gensim.utils.simple_preprocess)\n",
    "review_text"
   ]
  },
  {
   "cell_type": "code",
   "execution_count": 17,
   "id": "f2245016",
   "metadata": {},
   "outputs": [],
   "source": [
    "#créer le model\n",
    "\n",
    "model = gensim.models.Word2Vec(\n",
    "    window=5,\n",
    "    min_count=2,\n",
    "    workers=4\n",
    ")"
   ]
  },
  {
   "cell_type": "code",
   "execution_count": 18,
   "id": "0036b92c",
   "metadata": {},
   "outputs": [],
   "source": [
    "model.build_vocab(review_text, progress_per=1000)"
   ]
  },
  {
   "cell_type": "code",
   "execution_count": 19,
   "id": "c3332717",
   "metadata": {},
   "outputs": [
    {
     "data": {
      "text/plain": [
       "5"
      ]
     },
     "execution_count": 19,
     "metadata": {},
     "output_type": "execute_result"
    }
   ],
   "source": [
    "model.epochs"
   ]
  },
  {
   "cell_type": "code",
   "execution_count": 20,
   "id": "eb1d6cc6",
   "metadata": {},
   "outputs": [
    {
     "data": {
      "text/plain": [
       "(28906, 44990)"
      ]
     },
     "execution_count": 20,
     "metadata": {},
     "output_type": "execute_result"
    }
   ],
   "source": [
    "model.train(review_text, total_examples=model.corpus_count, epochs=model.epochs)"
   ]
  },
  {
   "cell_type": "code",
   "execution_count": 21,
   "id": "e2cca471",
   "metadata": {},
   "outputs": [
    {
     "data": {
      "text/plain": [
       "[('pain', 0.8454444408416748),\n",
       " ('how', 0.845262348651886),\n",
       " ('on', 0.8447807431221008),\n",
       " ('will', 0.8445184826850891),\n",
       " ('their', 0.8441241383552551),\n",
       " ('more', 0.8439537286758423),\n",
       " ('feed_f', 0.8434983491897583),\n",
       " ('dlvr', 0.8433988094329834),\n",
       " ('via', 0.8428809642791748),\n",
       " ('year', 0.8427599668502808)]"
      ]
     },
     "execution_count": 21,
     "metadata": {},
     "output_type": "execute_result"
    }
   ],
   "source": [
    "model.wv.most_similar(\"good\")"
   ]
  },
  {
   "cell_type": "code",
   "execution_count": 22,
   "id": "037a0298",
   "metadata": {},
   "outputs": [
    {
     "data": {
      "text/plain": [
       "0.9519919"
      ]
     },
     "execution_count": 22,
     "metadata": {},
     "output_type": "execute_result"
    }
   ],
   "source": [
    "model.wv.similarity(w1=\"stocks\", w2=\"performance\")"
   ]
  },
  {
   "cell_type": "code",
   "execution_count": 23,
   "id": "2a5b808b",
   "metadata": {},
   "outputs": [
    {
     "data": {
      "text/plain": [
       "1.0"
      ]
     },
     "execution_count": 23,
     "metadata": {},
     "output_type": "execute_result"
    }
   ],
   "source": [
    "model.wv.similarity(w1=\"great\", w2=\"great\")"
   ]
  },
  {
   "cell_type": "code",
   "execution_count": null,
   "id": "ee716167",
   "metadata": {},
   "outputs": [],
   "source": []
  }
 ],
 "metadata": {
  "kernelspec": {
   "display_name": "Python 3",
   "language": "python",
   "name": "python3"
  },
  "language_info": {
   "codemirror_mode": {
    "name": "ipython",
    "version": 3
   },
   "file_extension": ".py",
   "mimetype": "text/x-python",
   "name": "python",
   "nbconvert_exporter": "python",
   "pygments_lexer": "ipython3",
   "version": "3.8.10"
  }
 },
 "nbformat": 4,
 "nbformat_minor": 5
}
